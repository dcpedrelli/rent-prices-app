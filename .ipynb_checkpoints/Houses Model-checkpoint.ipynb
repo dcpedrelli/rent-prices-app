{
 "cells": [
  {
   "cell_type": "code",
   "execution_count": 1,
   "metadata": {},
   "outputs": [
    {
     "name": "stdout",
     "output_type": "stream",
     "text": [
      "RMSE: 1742.574193724991\n",
      "MAE: 351.55211543729826\n",
      "R2: 0.7643074767557195\n"
     ]
    }
   ],
   "source": [
    "## Importing Libraries\n",
    "\n",
    "import requests\n",
    "import pickle\n",
    "import pandas as pd\n",
    "import numpy as np\n",
    "from flask import Flask, request\n",
    "from sklearn.compose import ColumnTransformer\n",
    "from sklearn.preprocessing import OneHotEncoder\n",
    "from sklearn.preprocessing import StandardScaler\n",
    "from sklearn.model_selection import train_test_split\n",
    "from sklearn.linear_model import LinearRegression\n",
    "from sklearn.model_selection import cross_val_score\n",
    "from sklearn.metrics import mean_squared_error, mean_absolute_error, r2_score\n",
    "\n",
    "## Importing Data\n",
    "\n",
    "htr = pd.read_csv('houses_to_rent_v2.csv',na_values='-').fillna(0)\n",
    "\n",
    "## Defining Variables\n",
    "\n",
    "X = htr.drop(['rent amount (R$)','total (R$)'],axis=1)\n",
    "y = htr['rent amount (R$)']\n",
    "\n",
    "## One Hot Encoding\n",
    "\n",
    "ct = ColumnTransformer(transformers=[('encoder', OneHotEncoder(), ['city','animal','furniture'])], remainder='passthrough')\n",
    "X = np.array(ct.fit_transform(X))\n",
    "pickle.dump(ct,open('one_hot_enc.pkl','wb'))\n",
    "\n",
    "### Feature Scaling\n",
    "\n",
    "sc = StandardScaler()\n",
    "X = sc.fit_transform(X)\n",
    "pickle.dump(sc,open('stand_scaler.pkl','wb'))\n",
    "\n",
    "## Defining training and test sets\n",
    "\n",
    "X_train, X_test, y_train, y_test = train_test_split(X, y, test_size = 0.2, random_state = 0)\n",
    "\n",
    "## Multiple Linear Regression Model\n",
    "\n",
    "model = LinearRegression()\n",
    "model.fit(X_train, y_train)\n",
    "\n",
    "\n",
    "pickle.dump( model, open( 'house_model.pkl', 'wb' ) )"
   ]
  },
  {
   "cell_type": "code",
   "execution_count": 2,
   "metadata": {},
   "outputs": [],
   "source": [
    "df = htr.drop(['rent amount (R$)','total (R$)'],axis=1).sample()\n",
    "df_json = df.to_json(orient = 'records')"
   ]
  },
  {
   "cell_type": "code",
   "execution_count": null,
   "metadata": {},
   "outputs": [],
   "source": [
    "url = 'http://0.0.0.0:5000/predict'\n",
    "data = df_json\n",
    "header = {'Content-type':'application/json'}\n",
    "\n",
    "requests.post(url=url,data=data,headers=header)"
   ]
  }
 ],
 "metadata": {
  "kernelspec": {
   "display_name": "Python 3",
   "language": "python",
   "name": "python3"
  },
  "language_info": {
   "codemirror_mode": {
    "name": "ipython",
    "version": 3
   },
   "file_extension": ".py",
   "mimetype": "text/x-python",
   "name": "python",
   "nbconvert_exporter": "python",
   "pygments_lexer": "ipython3",
   "version": "3.7.6"
  }
 },
 "nbformat": 4,
 "nbformat_minor": 4
}
